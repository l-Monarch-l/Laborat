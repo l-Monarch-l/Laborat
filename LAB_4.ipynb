{
  "nbformat": 4,
  "nbformat_minor": 0,
  "metadata": {
    "colab": {
      "provenance": [],
      "authorship_tag": "ABX9TyNUxfsojb9Sc2HSPYtD+2cM",
      "include_colab_link": true
    },
    "kernelspec": {
      "name": "python3",
      "display_name": "Python 3"
    },
    "language_info": {
      "name": "python"
    }
  },
  "cells": [
    {
      "cell_type": "markdown",
      "metadata": {
        "id": "view-in-github",
        "colab_type": "text"
      },
      "source": [
        "<a href=\"https://colab.research.google.com/github/l-Monarch-l/Laborat/blob/main/LAB_4.ipynb\" target=\"_parent\"><img src=\"https://colab.research.google.com/assets/colab-badge.svg\" alt=\"Open In Colab\"/></a>"
      ]
    },
    {
      "cell_type": "code",
      "execution_count": 26,
      "metadata": {
        "id": "of-xPP9hpBvx"
      },
      "outputs": [],
      "source": [
        "import re\n",
        "import nltk\n",
        "import string\n",
        "import pandas as pd\n",
        "import matplotlib.pyplot as plt\n",
        "from sklearn.model_selection import train_test_split\n",
        "from sklearn.feature_extraction.text import TfidfVectorizer\n",
        "from sklearn.cluster import KMeans\n",
        "from sklearn.metrics import adjusted_rand_score\n",
        "from nltk.corpus import stopwords\n",
        "from nltk.tokenize import word_tokenize\n",
        "from nltk.stem import WordNetLemmatizer"
      ]
    },
    {
      "cell_type": "code",
      "source": [
        "nltk.download('punkt')\n",
        "nltk.download('stopwords')\n",
        "nltk.download('wordnet')\n",
        "nltk.download('omw-1.4')\n",
        "nltk.download('punkt_tab')"
      ],
      "metadata": {
        "colab": {
          "base_uri": "https://localhost:8080/"
        },
        "id": "IIfFCqjJuGmP",
        "outputId": "d84f55ce-1f64-43e1-f96c-8de2984a602b"
      },
      "execution_count": 16,
      "outputs": [
        {
          "output_type": "stream",
          "name": "stderr",
          "text": [
            "[nltk_data] Downloading package punkt to /root/nltk_data...\n",
            "[nltk_data]   Package punkt is already up-to-date!\n",
            "[nltk_data] Downloading package stopwords to /root/nltk_data...\n",
            "[nltk_data]   Package stopwords is already up-to-date!\n",
            "[nltk_data] Downloading package wordnet to /root/nltk_data...\n",
            "[nltk_data]   Package wordnet is already up-to-date!\n",
            "[nltk_data] Downloading package omw-1.4 to /root/nltk_data...\n",
            "[nltk_data]   Package omw-1.4 is already up-to-date!\n",
            "[nltk_data] Downloading package punkt_tab to /root/nltk_data...\n",
            "[nltk_data]   Unzipping tokenizers/punkt_tab.zip.\n"
          ]
        },
        {
          "output_type": "execute_result",
          "data": {
            "text/plain": [
              "True"
            ]
          },
          "metadata": {},
          "execution_count": 16
        }
      ]
    },
    {
      "cell_type": "code",
      "source": [
        "# Загрузка файла\n",
        "with open('scp_object.txt', 'r', encoding='utf-8') as f:\n",
        "    content = f.read()"
      ],
      "metadata": {
        "id": "vgbAZpyStxvH"
      },
      "execution_count": 10,
      "outputs": []
    },
    {
      "cell_type": "code",
      "source": [
        "# Разделение статей по разделителю '===='\n",
        "articles = [article.strip() for article in content.split('====') if article.strip()]"
      ],
      "metadata": {
        "id": "vRM4JNmttzS2"
      },
      "execution_count": 11,
      "outputs": []
    },
    {
      "cell_type": "code",
      "source": [
        "# Парсинг метаданных и текста\n",
        "data = []\n",
        "for article in articles:\n",
        "    # Извлечение Organization, Name, Description\n",
        "    org_match = re.search(r'Organization:\\s*(.*)', article)\n",
        "    name_match = re.search(r'Name:\\s*(.*)', article)\n",
        "    desc_match = re.search(r'Description:\\s*(.*?)\\n\\n', article, re.DOTALL)\n",
        "\n",
        "    org = org_match.group(1).strip() if org_match else None\n",
        "    name = name_match.group(1).strip() if name_match else None\n",
        "    desc = desc_match.group(1).strip() if desc_match else None\n",
        "\n",
        "    # Основной текст (все после Description)\n",
        "    text = article.split('Description:', 1)[-1].strip() if desc else article.strip()\n",
        "\n",
        "    data.append({\n",
        "        'organization': org,\n",
        "        'name': name,\n",
        "        'description': desc,\n",
        "        'text': text\n",
        "    })"
      ],
      "metadata": {
        "id": "wkJpJqYat4RX"
      },
      "execution_count": 12,
      "outputs": []
    },
    {
      "cell_type": "code",
      "source": [
        "# Создание DataFrame\n",
        "df = pd.DataFrame(data)\n",
        "print(df.head())"
      ],
      "metadata": {
        "colab": {
          "base_uri": "https://localhost:8080/"
        },
        "id": "pT4MaQg9t5V2",
        "outputId": "1bca0bff-a3e1-4a9f-defb-05a6f4d1adfa"
      },
      "execution_count": 13,
      "outputs": [
        {
          "output_type": "stream",
          "name": "stdout",
          "text": [
            "     organization     name                                        description  \\\n",
            "0  SCP Foundation  SCP-001  THE FOLLOWING FILES HAVE BEEN CLASSIFIED\\nTOP ...   \n",
            "1  SCP Foundation  SCP-002                                   rating: +2187+–x   \n",
            "2  SCP Foundation  SCP-003                                   rating: +1009+–x   \n",
            "3  SCP Foundation  SCP-004                                   rating: +1331+–x   \n",
            "4  SCP Foundation  SCP-005                                    rating: +871+–x   \n",
            "\n",
            "                                                text  \n",
            "0  THE FOLLOWING FILES HAVE BEEN CLASSIFIED\\nTOP ...  \n",
            "1  rating: +2187+–x\\n\\n\\nSCP-002 in its containme...  \n",
            "2  rating: +1009+–x\\n\\n\\nA close up of SCP-003's ...  \n",
            "3  rating: +1331+–x\\n\\n\\nSCP-004-1\\n\\n\\nItem #: S...  \n",
            "4  rating: +871+–x\\n\\n\\nA close up of SCP-005\\n\\n...  \n"
          ]
        }
      ]
    },
    {
      "cell_type": "code",
      "source": [
        "def preprocess_text(text):\n",
        "    if not isinstance(text, str):\n",
        "        return \"\"\n",
        "\n",
        "    # Удаление пунктуации и приведение к нижнему регистру\n",
        "    text = text.translate(str.maketrans('', '', string.punctuation)).lower()\n",
        "\n",
        "    # Токенизация\n",
        "    tokens = word_tokenize(text)\n",
        "\n",
        "    # Удаление стоп-слов и лемматизация\n",
        "    stop_words = set(stopwords.words('english'))\n",
        "    lemmatizer = WordNetLemmatizer()\n",
        "    tokens = [lemmatizer.lemmatize(token) for token in tokens if token not in stop_words]\n",
        "\n",
        "    return ' '.join(tokens)"
      ],
      "metadata": {
        "id": "8CCUNMQouJQu"
      },
      "execution_count": 14,
      "outputs": []
    },
    {
      "cell_type": "code",
      "source": [
        "df['processed_text'] = df['text'].apply(preprocess_text)"
      ],
      "metadata": {
        "id": "ZOPT0CtduKmm"
      },
      "execution_count": 17,
      "outputs": []
    },
    {
      "cell_type": "code",
      "source": [
        "# Пример анализа: распределение по организациям\n",
        "print(df['organization'].value_counts())"
      ],
      "metadata": {
        "colab": {
          "base_uri": "https://localhost:8080/"
        },
        "id": "pbkctjcsuLJ-",
        "outputId": "427859c0-a1b2-41ca-b23b-20ad87d4ab30"
      },
      "execution_count": 18,
      "outputs": [
        {
          "output_type": "stream",
          "name": "stdout",
          "text": [
            "organization\n",
            "SCP Foundation    2995\n",
            "Name: count, dtype: int64\n"
          ]
        }
      ]
    },
    {
      "cell_type": "code",
      "source": [
        "# Длина текста\n",
        "df['text_length'] = df['text'].apply(lambda x: len(x.split()))\n",
        "print(df['text_length'].describe())"
      ],
      "metadata": {
        "colab": {
          "base_uri": "https://localhost:8080/"
        },
        "id": "wQSp8PDruN2m",
        "outputId": "f60a89e2-10b0-4533-e1f2-7a0aae9f7632"
      },
      "execution_count": 19,
      "outputs": [
        {
          "output_type": "stream",
          "name": "stdout",
          "text": [
            "count     2996.000000\n",
            "mean      1293.693258\n",
            "std        979.096622\n",
            "min         96.000000\n",
            "25%        740.750000\n",
            "50%       1062.000000\n",
            "75%       1568.000000\n",
            "max      27649.000000\n",
            "Name: text_length, dtype: float64\n"
          ]
        }
      ]
    },
    {
      "cell_type": "code",
      "source": [
        "vectorizer = TfidfVectorizer(max_features=1000)\n",
        "X = vectorizer.fit_transform(df['processed_text'])"
      ],
      "metadata": {
        "id": "03LsoXlpuPV-"
      },
      "execution_count": 20,
      "outputs": []
    },
    {
      "cell_type": "code",
      "source": [
        "kmeans = KMeans(n_clusters=5, random_state=42)\n",
        "clusters = kmeans.fit_predict(X)\n",
        "\n",
        "df['cluster'] = clusters\n",
        "print(df[['name', 'cluster']].head())"
      ],
      "metadata": {
        "colab": {
          "base_uri": "https://localhost:8080/"
        },
        "id": "sgx-DB1quQum",
        "outputId": "f0a6f6f6-1a6f-4bbf-d25c-6c032ad68044"
      },
      "execution_count": 21,
      "outputs": [
        {
          "output_type": "stream",
          "name": "stdout",
          "text": [
            "      name  cluster\n",
            "0  SCP-001        2\n",
            "1  SCP-002        2\n",
            "2  SCP-003        2\n",
            "3  SCP-004        2\n",
            "4  SCP-005        2\n"
          ]
        }
      ]
    },
    {
      "cell_type": "code",
      "source": [
        "if 'organization' in df:\n",
        "    df['org_code'] = pd.factorize(df['organization'])[0]\n",
        "    ari = adjusted_rand_score(df['org_code'], df['cluster'])\n",
        "    print(f\"Adjusted Rand Index: {ari:.2f}\")"
      ],
      "metadata": {
        "colab": {
          "base_uri": "https://localhost:8080/"
        },
        "id": "oYzQrdy2uYzf",
        "outputId": "df6afc8b-d77b-4440-bd45-19afa37f6692"
      },
      "execution_count": 22,
      "outputs": [
        {
          "output_type": "stream",
          "name": "stdout",
          "text": [
            "Adjusted Rand Index: -0.00\n"
          ]
        }
      ]
    },
    {
      "cell_type": "code",
      "source": [
        "# разделим на train+val и test\n",
        "X_train_val, X_test, y_train_val, y_test = train_test_split(\n",
        "    X, df['organization'], test_size=0.2, random_state=42\n",
        ")\n",
        "\n",
        "# Затем разделим train_val на train и val\n",
        "X_train, X_val, y_train, y_val = train_test_split(\n",
        "    X_train_val, y_train_val, test_size=0.25, random_state=42\n",
        ")"
      ],
      "metadata": {
        "id": "pvNvU28_ubde"
      },
      "execution_count": 23,
      "outputs": []
    },
    {
      "cell_type": "code",
      "source": [
        "print(\"Размеры выборок:\")\n",
        "print(f\"Train: {X_train.shape[0]}\")\n",
        "print(f\"Val:   {X_val.shape[0]}\")\n",
        "print(f\"Test:  {X_test.shape[0]}\")"
      ],
      "metadata": {
        "colab": {
          "base_uri": "https://localhost:8080/"
        },
        "id": "vZSopYWt5khO",
        "outputId": "fb82290a-0a7d-409f-f94b-8fdf98c673c2"
      },
      "execution_count": 35,
      "outputs": [
        {
          "output_type": "stream",
          "name": "stdout",
          "text": [
            "Размеры выборок:\n",
            "Train: 1797\n",
            "Val:   599\n",
            "Test:  600\n"
          ]
        }
      ]
    },
    {
      "cell_type": "code",
      "source": [
        "for cluster_num in sorted(df['cluster'].unique()):\n",
        "    cluster_data = df[df['cluster'] == cluster_num]\n",
        "\n",
        "    print(f\"\\n Кластер {cluster_num} (статей: {len(cluster_data)})\")\n",
        "    print(\"━\" * 50)\n",
        "\n",
        "    print(\"\\n Топ-3 статьи:\")\n",
        "    for name in cluster_data['name'].head(3):\n",
        "        print(f\"  {name}\")\n",
        "\n",
        "    if 'organization' in df:\n",
        "        org_counts = cluster_data['organization'].value_counts().head(3)\n",
        "        print(\"\\n Топ организаций:\")\n",
        "        for org, count in org_counts.items():\n",
        "            print(f\"  {org}: {count} статей\")\n",
        "\n",
        "    avg_length = cluster_data['text_length'].mean()\n",
        "    print(f\"\\n Средняя длина текста: {avg_length:.1f} слов\")\n",
        "\n",
        "    if 'processed_text' in df:\n",
        "        vectorizer = TfidfVectorizer(max_features=5)\n",
        "        X_cluster = vectorizer.fit_transform(cluster_data['processed_text'])\n",
        "        keywords = \", \".join(vectorizer.get_feature_names_out())\n",
        "        print(f\"\\n Ключевые слова: {keywords}\")\n",
        "\n",
        "    sample_text = cluster_data.iloc[0]['text'][:100] + \"...\"\n",
        "    print(f\"\\n Пример текста:\\n  «{sample_text}»\")\n",
        "\n",
        "    print(\"━\" * 50)"
      ],
      "metadata": {
        "colab": {
          "base_uri": "https://localhost:8080/"
        },
        "id": "VSfOT_GJ7CQm",
        "outputId": "9a8f1e81-4c03-458f-e8f9-eb562a79f1d3"
      },
      "execution_count": 39,
      "outputs": [
        {
          "output_type": "stream",
          "name": "stdout",
          "text": [
            "\n",
            " Кластер 0 (статей: 467)\n",
            "━━━━━━━━━━━━━━━━━━━━━━━━━━━━━━━━━━━━━━━━━━━━━━━━━━\n",
            "\n",
            " Топ-3 статьи:\n",
            "  SCP-007\n",
            "  SCP-012\n",
            "  SCP-013\n",
            "\n",
            " Топ организаций:\n",
            "  SCP Foundation: 467 статей\n",
            "\n",
            " Средняя длина текста: 1084.7 слов\n",
            "\n",
            " Ключевые слова: effect, licensing, see, subject, test\n",
            "\n",
            " Пример текста:\n",
            "  «rating: +711+–x\n",
            "Item #: SCP-007\n",
            "Object Class: Euclid\n",
            "Special Containment Procedures: SCP-007 is to b...»\n",
            "━━━━━━━━━━━━━━━━━━━━━━━━━━━━━━━━━━━━━━━━━━━━━━━━━━\n",
            "\n",
            " Кластер 1 (статей: 191)\n",
            "━━━━━━━━━━━━━━━━━━━━━━━━━━━━━━━━━━━━━━━━━━━━━━━━━━\n",
            "\n",
            " Топ-3 статьи:\n",
            "  SCP-019\n",
            "  SCP-021\n",
            "  SCP-059\n",
            "\n",
            " Топ организаций:\n",
            "  SCP Foundation: 191 статей\n",
            "\n",
            " Средняя длина текста: 1010.9 слов\n",
            "\n",
            " Ключевые слова: containment, host, licensing, specimen, subject\n",
            "\n",
            " Пример текста:\n",
            "  «rating: +572+–x\n",
            "\n",
            "\n",
            "SCP-019\n",
            "\n",
            "\n",
            "Item #: SCP-019\n",
            "Object Class: Keter\n",
            "Special Containment Procedures: SCP-...»\n",
            "━━━━━━━━━━━━━━━━━━━━━━━━━━━━━━━━━━━━━━━━━━━━━━━━━━\n",
            "\n",
            " Кластер 2 (статей: 1397)\n",
            "━━━━━━━━━━━━━━━━━━━━━━━━━━━━━━━━━━━━━━━━━━━━━━━━━━\n",
            "\n",
            " Топ-3 статьи:\n",
            "  SCP-001\n",
            "  SCP-002\n",
            "  SCP-003\n",
            "\n",
            " Топ организаций:\n",
            "  SCP Foundation: 1396 статей\n",
            "\n",
            " Средняя длина текста: 1096.6 слов\n",
            "\n",
            " Ключевые слова: containment, licensing, object, rating, see\n",
            "\n",
            " Пример текста:\n",
            "  «THE FOLLOWING FILES HAVE BEEN CLASSIFIED\n",
            "TOP SECRET\n",
            "BY ORDER OF THE ADMINISTRATOR\n",
            "\n",
            "\n",
            "\n",
            "\n",
            "GENERAL NOTICE...»\n",
            "━━━━━━━━━━━━━━━━━━━━━━━━━━━━━━━━━━━━━━━━━━━━━━━━━━\n",
            "\n",
            " Кластер 3 (статей: 367)\n",
            "━━━━━━━━━━━━━━━━━━━━━━━━━━━━━━━━━━━━━━━━━━━━━━━━━━\n",
            "\n",
            " Топ-3 статьи:\n",
            "  SCP-022\n",
            "  SCP-074\n",
            "  SCP-092\n",
            "\n",
            " Топ организаций:\n",
            "  SCP Foundation: 367 статей\n",
            "\n",
            " Средняя длина текста: 1224.9 слов\n",
            "\n",
            " Ключевые слова: containment, foundation, instance, licensing, see\n",
            "\n",
            " Пример текста:\n",
            "  «rating: +807+–x\n",
            "\n",
            "\n",
            "Image of SCP-022 through security camera.\n",
            "\n",
            "\n",
            "Item #: SCP-022\n",
            "Object Class: Euclid\n",
            "S...»\n",
            "━━━━━━━━━━━━━━━━━━━━━━━━━━━━━━━━━━━━━━━━━━━━━━━━━━\n",
            "\n",
            " Кластер 4 (статей: 574)\n",
            "━━━━━━━━━━━━━━━━━━━━━━━━━━━━━━━━━━━━━━━━━━━━━━━━━━\n",
            "\n",
            " Топ-3 статьи:\n",
            "  SCP-032\n",
            "  SCP-039\n",
            "  SCP-040\n",
            "\n",
            " Топ организаций:\n",
            "  SCP Foundation: 574 статей\n",
            "\n",
            " Средняя длина текста: 2081.5 слов\n",
            "\n",
            " Ключевые слова: dr, know, like, see, time\n",
            "\n",
            " Пример текста:\n",
            "  «rating: +508+–x\n",
            "Item #: SCP-032\n",
            "Object Class: Euclid\n",
            "Special Containment Procedures: SCP-032 is to b...»\n",
            "━━━━━━━━━━━━━━━━━━━━━━━━━━━━━━━━━━━━━━━━━━━━━━━━━━\n"
          ]
        }
      ]
    }
  ]
}