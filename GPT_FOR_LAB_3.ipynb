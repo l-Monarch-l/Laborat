{
  "nbformat": 4,
  "nbformat_minor": 0,
  "metadata": {
    "colab": {
      "provenance": [],
      "authorship_tag": "ABX9TyMB4fpUQTw/tpZ2UWMV31jn",
      "include_colab_link": true
    },
    "kernelspec": {
      "name": "python3",
      "display_name": "Python 3"
    },
    "language_info": {
      "name": "python"
    }
  },
  "cells": [
    {
      "cell_type": "markdown",
      "metadata": {
        "id": "view-in-github",
        "colab_type": "text"
      },
      "source": [
        "<a href=\"https://colab.research.google.com/github/l-Monarch-l/Laborat/blob/main/GPT_FOR_LAB_3.ipynb\" target=\"_parent\"><img src=\"https://colab.research.google.com/assets/colab-badge.svg\" alt=\"Open In Colab\"/></a>"
      ]
    },
    {
      "cell_type": "code",
      "source": [
        "import numpy as np\n",
        "import random\n",
        "from collections import defaultdict"
      ],
      "metadata": {
        "id": "wmmeuglDdRTI"
      },
      "execution_count": 45,
      "outputs": []
    },
    {
      "cell_type": "code",
      "source": [
        "def stable_softmax(x):\n",
        "    exp_x = np.exp(x - np.max(x, axis=-1, keepdims=True))\n",
        "    return exp_x / np.sum(exp_x, axis=-1, keepdims=True)"
      ],
      "metadata": {
        "id": "f1Z1Lz0uejGf"
      },
      "execution_count": 46,
      "outputs": []
    },
    {
      "cell_type": "code",
      "source": [
        "# 2. Генерация SCP датасета на русском\n",
        "scp_texts = [\n",
        "    \"SCP-173 - это статуя, которая двигается, когда за ней не наблюдают, и ломает шеи\",\n",
        "    \"SCP-682 - огромное рептилоидное существо, которое крайне сложно уничтожить\",\n",
        "    \"SCP-096 - гуманоид, который впадает в ярость, если кто-то увидит его лицо\",\n",
        "    \"SCP-106 - старик, который может проходить сквозь стены и утаскивает жертв в свой карманный мир\",\n",
        "    \"SCP-049 - врач-чумной доктор, который считает, что может вылечить болезнь\",\n",
        "    \"SCP-999 - дружелюбный оранжевый слизень, который делает людей счастливыми\",\n",
        "    \"SCP-035 - маска, которая принимает контроль над тем, кто её надевает\",\n",
        "    \"SCP-939 - хищные существа, имитирующие человеческие голоса\",\n",
        "    \"SCP-076 - Абель, воин с мечом, который постоянно возрождается\",\n",
        "    \"SCP-087 - лестница, ведущая в бесконечную темноту\",\n",
        "    \"SCP-294 - кофейный аппарат, который может налить любую жидкость\",\n",
        "    \"SCP-914 - машина для переработки, которая модифицирует предметы\",\n",
        "    \"SCP-1048 - плюшевый медвежонок, который создаёт своих копий\",\n",
        "    \"SCP-1128 - паразитическая амфибия, обитающая в водоёмах\",\n",
        "    \"SCP-1504 - демон-вещатель, который манипулирует информацией\",\n",
        "    \"SCP-1983 - тюрьма, которая удерживает бестелесные сущности\",\n",
        "    \"SCP-3008 - бесконечный магазин IKEA с агрессивными сотрудниками\",\n",
        "    \"SCP-3199 - мутировавшие существа, ненавидящие человечество\",\n",
        "    \"SCP-3301 - интернет-сущность, собирающая информацию\",\n",
        "    \"SCP-354 - кровавый пузырь, порождающий опасных существ\",\n",
        "    \"SCP-1845 - кукла, которая заставляет людей исчезать\",\n",
        "    \"SCP-2399 - повреждённый космический корабль, который чинит себя\",\n",
        "    \"SCP-261 - торговый автомат, продающий странные продукты\",\n",
        "    \"SCP-426 - тостер, который заставляет людей говорить о себе в первом лице\",\n",
        "    \"SCP-529 - кошка-полукровка с отсутствующей задней частью тела\",\n",
        "    \"SCP-966 - невидимые существа, мешающие спать\",\n",
        "    \"SCP-1048 - плюшевый медведь, который размножается\",\n",
        "    \"SCP-1471 - приложение, которое показывает вам существо\",\n",
        "    \"SCP-1875 - куклы, которые предсказывают будущее\",\n",
        "    \"SCP-2521 - существо, которое похищает тех, кто о нём говорит\"\n",
        "]"
      ],
      "metadata": {
        "id": "qS5C7iudegyv"
      },
      "execution_count": 53,
      "outputs": []
    },
    {
      "cell_type": "code",
      "source": [
        "# 3. Создание словаря\n",
        "word_to_idx = defaultdict(lambda: len(word_to_idx))\n",
        "idx_to_word = {}\n",
        "text_sequences = []\n",
        "for text in scp_texts:\n",
        "    words = text.lower().split()\n",
        "    sequence = [word_to_idx[word] for word in words]\n",
        "    text_sequences.append(sequence)\n",
        "    for word in words:\n",
        "        idx_to_word[word_to_idx[word]] = word\n",
        "\n",
        "vocab_size = len(word_to_idx)\n",
        "print(f\"Размер словаря: {vocab_size}\")\n",
        "print(f\"Примеры слов в словаре: {list(idx_to_word.items())[:10]}\")"
      ],
      "metadata": {
        "colab": {
          "base_uri": "https://localhost:8080/"
        },
        "id": "IihleyqFedBv",
        "outputId": "90c88da8-e015-472c-9bc4-7102e508f41b"
      },
      "execution_count": 60,
      "outputs": [
        {
          "output_type": "stream",
          "name": "stdout",
          "text": [
            "Размер словаря: 187\n",
            "Примеры слов в словаре: [(0, 'scp-173'), (1, '-'), (2, 'это'), (3, 'статуя,'), (4, 'которая'), (5, 'двигается,'), (6, 'когда'), (7, 'за'), (8, 'ней'), (9, 'не')]\n"
          ]
        }
      ]
    },
    {
      "cell_type": "code",
      "source": [
        "# 4. Подготовка данных для обучения\n",
        "X_train = []\n",
        "y_train = []\n",
        "for seq in text_sequences:\n",
        "    for i in range(len(seq)-1):\n",
        "        X_train.append(seq[i])\n",
        "        y_train.append(seq[i+1])\n",
        "\n",
        "X_train = np.array(X_train)\n",
        "y_train = np.array(y_train)"
      ],
      "metadata": {
        "id": "vES-5_Zveaxe"
      },
      "execution_count": 61,
      "outputs": []
    },
    {
      "cell_type": "code",
      "source": [
        "# 5. Улучшенная модель GPT для генерации SCP описаний\n",
        "class SCPTextGenerator:\n",
        "    def __init__(self, vocab_size, embedding_dim=32, hidden_dim=64):\n",
        "        self.vocab_size = vocab_size\n",
        "        self.embedding_dim = embedding_dim\n",
        "        self.hidden_dim = hidden_dim\n",
        "\n",
        "        # Инициализация весов с учетом Xavier/Glorot инициализации\n",
        "        limit_embed = np.sqrt(6 / (vocab_size + embedding_dim))\n",
        "        self.W_embed = np.random.uniform(-limit_embed, limit_embed, (vocab_size, embedding_dim))\n",
        "\n",
        "        limit_hidden = np.sqrt(6 / (embedding_dim + hidden_dim))\n",
        "        self.W_hidden = np.random.uniform(-limit_hidden, limit_hidden, (embedding_dim, hidden_dim))\n",
        "\n",
        "        limit_out = np.sqrt(6 / (hidden_dim + vocab_size))\n",
        "        self.W_output = np.random.uniform(-limit_out, limit_out, (hidden_dim, vocab_size))\n",
        "\n",
        "        self.b_hidden = np.zeros(hidden_dim)\n",
        "        self.b_output = np.zeros(vocab_size)\n",
        "\n",
        "        # Для отслеживания потерь\n",
        "        self.loss_history = []\n",
        "\n",
        "    def forward(self, x):\n",
        "        # Встраивание\n",
        "        embed = self.W_embed[x]\n",
        "\n",
        "        # Скрытый слой с ограничением значений\n",
        "        h = np.tanh(np.dot(embed, self.W_hidden) + self.b_hidden)\n",
        "        h = np.clip(h, -5, 5)  # Предотвращаем взрыв градиентов\n",
        "\n",
        "        # Выходной слой\n",
        "        logits = np.dot(h, self.W_output) + self.b_output\n",
        "        probs = stable_softmax(logits)\n",
        "        return probs, h, embed\n",
        "\n",
        "    def backward(self, x, y, probs, h, embed, learning_rate):\n",
        "        # Градиенты\n",
        "        grad_logits = probs.copy()\n",
        "        grad_logits[range(len(y)), y] -= 1\n",
        "        grad_logits /= len(y)\n",
        "\n",
        "        # Градиенты параметров с L2 регуляризацией\n",
        "        l2_lambda = 0.001\n",
        "\n",
        "        # Градиенты выходного слоя\n",
        "        grad_W_output = np.dot(h.T, grad_logits) + l2_lambda * self.W_output\n",
        "        grad_b_output = np.sum(grad_logits, axis=0)\n",
        "\n",
        "        # Градиенты скрытого слоя\n",
        "        grad_h = np.dot(grad_logits, self.W_output.T)\n",
        "        grad_h_raw = grad_h * (1 - h**2)\n",
        "\n",
        "        grad_W_hidden = np.dot(embed.T, grad_h_raw) + l2_lambda * self.W_hidden\n",
        "        grad_b_hidden = np.sum(grad_h_raw, axis=0)\n",
        "\n",
        "        # Градиенты встраивания\n",
        "        grad_embed = np.dot(grad_h_raw, self.W_hidden.T)\n",
        "\n",
        "        # Обновление параметров\n",
        "        self.W_output -= learning_rate * grad_W_output\n",
        "        self.b_output -= learning_rate * grad_b_output\n",
        "        self.W_hidden -= learning_rate * grad_W_hidden\n",
        "        self.b_hidden -= learning_rate * grad_b_hidden\n",
        "\n",
        "        # Обновляем только использованные встраивания\n",
        "        for i, word_idx in enumerate(x):\n",
        "            self.W_embed[word_idx] -= learning_rate * grad_embed[i]\n",
        "\n",
        "    def compute_loss(self, probs, y):\n",
        "        return -np.mean(np.log(probs[range(len(y)), y] + 1e-8))  # Добавляем небольшое значение для стабильности\n",
        "\n",
        "    def train(self, X, y, epochs=200, learning_rate=0.05, batch_size=8):\n",
        "        for epoch in range(epochs):\n",
        "            # Перемешиваем данные каждый эпох\n",
        "            indices = np.arange(len(X))\n",
        "            np.random.shuffle(indices)\n",
        "            X_shuffled = X[indices]\n",
        "            y_shuffled = y[indices]\n",
        "\n",
        "            total_loss = 0\n",
        "            correct = 0\n",
        "\n",
        "            for i in range(0, len(X), batch_size):\n",
        "                # Получаем мини-пакет\n",
        "                x_batch = X_shuffled[i:i+batch_size]\n",
        "                y_batch = y_shuffled[i:i+batch_size]\n",
        "\n",
        "                # Прямое распространение\n",
        "                probs, h, embed = self.forward(x_batch)\n",
        "\n",
        "                # Вычисление потерь и точности\n",
        "                loss = self.compute_loss(probs, y_batch)\n",
        "                total_loss += loss * len(x_batch)\n",
        "                correct += np.sum(np.argmax(probs, axis=1) == y_batch)\n",
        "\n",
        "                # Обратное распространение\n",
        "                self.backward(x_batch, y_batch, probs, h, embed, learning_rate)\n",
        "\n",
        "            # Средние значения за эпоху\n",
        "            avg_loss = total_loss / len(X)\n",
        "            accuracy = correct / len(X)\n",
        "            self.loss_history.append(avg_loss)\n",
        "\n",
        "            if epoch % 10 == 0:\n",
        "                print(f\"Epoch {epoch:3d} | Loss: {avg_loss:.4f} | Accuracy: {accuracy:.2f}\")\n",
        "\n",
        "    def generate_text(self, word_to_idx, idx_to_word, start_word, length=15, temperature=0.7):\n",
        "        current_word = word_to_idx[start_word.lower()]\n",
        "        generated = [current_word]\n",
        "\n",
        "        for _ in range(length-1):\n",
        "            probs, _, _ = self.forward(np.array([current_word]))\n",
        "            probs = probs[0]\n",
        "\n",
        "            if temperature != 1.0:\n",
        "                probs = np.power(probs, 1.0/temperature)\n",
        "                probs = probs / np.sum(probs)\n",
        "\n",
        "            # Убедимся, что нет NaN или inf\n",
        "            probs = np.nan_to_num(probs, nan=1.0/vocab_size, posinf=1.0/vocab_size, neginf=1.0/vocab_size)\n",
        "            probs = probs / np.sum(probs)  # Нормализуем на случай ошибок\n",
        "\n",
        "            try:\n",
        "                current_word = np.random.choice(len(probs), p=probs)\n",
        "            except:\n",
        "                current_word = np.argmax(probs)\n",
        "\n",
        "            generated.append(current_word)\n",
        "\n",
        "        return ' '.join([idx_to_word[idx] for idx in generated])"
      ],
      "metadata": {
        "id": "W7ZFZnITeYNe"
      },
      "execution_count": 62,
      "outputs": []
    },
    {
      "cell_type": "code",
      "source": [
        "# 6. Создание и обучение модели\n",
        "print(\"\\nОбучение SCP генерации текста...\")\n",
        "model = SCPTextGenerator(vocab_size, embedding_dim=32, hidden_dim=64)\n",
        "model.train(X_train, y_train, epochs=200, learning_rate=0.05)"
      ],
      "metadata": {
        "colab": {
          "base_uri": "https://localhost:8080/"
        },
        "id": "jlSPG42teQnX",
        "outputId": "2d305ba4-ddba-4012-dc14-e1bccd232513"
      },
      "execution_count": 63,
      "outputs": [
        {
          "output_type": "stream",
          "name": "stdout",
          "text": [
            "\n",
            "Обучение SCP генерации текста...\n",
            "Epoch   0 | Loss: 5.2154 | Accuracy: 0.06\n",
            "Epoch  10 | Loss: 4.7602 | Accuracy: 0.14\n",
            "Epoch  20 | Loss: 4.5388 | Accuracy: 0.14\n",
            "Epoch  30 | Loss: 4.2201 | Accuracy: 0.15\n",
            "Epoch  40 | Loss: 3.9223 | Accuracy: 0.19\n",
            "Epoch  50 | Loss: 3.6827 | Accuracy: 0.21\n",
            "Epoch  60 | Loss: 3.4347 | Accuracy: 0.26\n",
            "Epoch  70 | Loss: 3.1851 | Accuracy: 0.32\n",
            "Epoch  80 | Loss: 2.9349 | Accuracy: 0.34\n",
            "Epoch  90 | Loss: 2.6921 | Accuracy: 0.37\n",
            "Epoch 100 | Loss: 2.4537 | Accuracy: 0.45\n",
            "Epoch 110 | Loss: 2.2185 | Accuracy: 0.53\n",
            "Epoch 120 | Loss: 1.9883 | Accuracy: 0.61\n",
            "Epoch 130 | Loss: 1.7702 | Accuracy: 0.67\n",
            "Epoch 140 | Loss: 1.5672 | Accuracy: 0.70\n",
            "Epoch 150 | Loss: 1.3885 | Accuracy: 0.70\n",
            "Epoch 160 | Loss: 1.2436 | Accuracy: 0.69\n",
            "Epoch 170 | Loss: 1.1336 | Accuracy: 0.71\n",
            "Epoch 180 | Loss: 1.0561 | Accuracy: 0.71\n",
            "Epoch 190 | Loss: 1.0022 | Accuracy: 0.69\n"
          ]
        }
      ]
    },
    {
      "cell_type": "code",
      "source": [
        "# 7. Генерация примеров\n",
        "print(\"\\nГенерация SCP описания:\")\n",
        "start_words = [\"scp-173\", \"scp-682\", \"scp-096\", \"scp-106\", \"scp-049\", \"scp-999\"]\n",
        "for word in start_words:\n",
        "    print(f\"\\n '{word}':\")\n",
        "    for _ in range(2):\n",
        "        generated = model.generate_text(word_to_idx, idx_to_word, word, temperature=0.7)\n",
        "        print(f\"- {generated.capitalize()}\")"
      ],
      "metadata": {
        "colab": {
          "base_uri": "https://localhost:8080/"
        },
        "id": "QHgJDp-weMBH",
        "outputId": "1c415409-af77-4705-b280-9d66ee3a0c4d"
      },
      "execution_count": 64,
      "outputs": [
        {
          "output_type": "stream",
          "name": "stdout",
          "text": [
            "\n",
            "Генерация SCP описания:\n",
            "\n",
            " 'scp-173':\n",
            "- Scp-173 - огромное наблюдают, и утаскивает жертв в бесконечную пузырь, порождающий опасных существ в ярость,\n",
            "- Scp-173 - абель, воин с мечом, который постоянно возрождается - плюшевый медвежонок, который размножается -\n",
            "\n",
            " 'scp-682':\n",
            "- Scp-682 - приложение, которое показывает вам существо слизень, который может вылечить болезнь - мутировавшие существа,\n",
            "- Scp-682 - кукла, которая двигается, которое крайне сложно уничтожить создаёт своих копий существа, имитирующие человеческие\n",
            "\n",
            " 'scp-096':\n",
            "- Scp-096 - врач-чумной доктор, который размножается - старик, который впадает в бесконечную темноту уничтожить магазин\n",
            "- Scp-096 - существо, которое показывает вам существо рептилоидное существо, которое показывает вам существо - хищные\n",
            "\n",
            " 'scp-106':\n",
            "- Scp-106 - плюшевый медведь, который может вылечить болезнь в водоёмах космический корабль, который манипулирует информацией\n",
            "- Scp-106 - паразитическая амфибия, обитающая в бесконечную темноту человеческие голоса порождающий опасных существ кто о\n",
            "\n",
            " 'scp-049':\n",
            "- Scp-049 - врач-чумной доктор, который заставляет людей счастливыми кто её надевает модифицирует задней частью тела\n",
            "- Scp-049 - торговый автомат, продающий странные продукты доктор, который может налить любую жидкость амфибия, обитающая\n",
            "\n",
            " 'scp-999':\n",
            "- Scp-999 - интернет-сущность, собирающая возрождается магазин ikea с мечом, который может проходить которые предсказывают будущее\n",
            "- Scp-999 - невидимые существа, ненавидящие человечество мечом, который заставляет людей счастливыми её надевает сущности которая\n"
          ]
        }
      ]
    }
  ]
}